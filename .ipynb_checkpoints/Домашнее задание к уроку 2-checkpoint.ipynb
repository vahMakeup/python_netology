{
 "cells": [
  {
   "cell_type": "markdown",
   "id": "02a88bd5-f9e6-42dd-b796-490b46cca20c",
   "metadata": {},
   "source": [
    "# Задача 1\n",
    "Дан список с визитами по городам и странам.\n",
    "Напишите код, который возвращает отфильтрованный список geo_logs, содержащий только визиты из России.\n",
    "Считайте, что список geo_logs легко помещается в оперативной памяти.\n",
    "\n",
    "geo_logs = [\\\n",
    "\t['visit1', ['Москва', 'Россия']],\\\n",
    "\t['visit2', ['Дели', 'Индия']],\\\n",
    "\t['visit3', ['Владимир', 'Россия']],\\\n",
    "\t['visit4', ['Лиссабон', 'Португалия']],\\\n",
    "\t['visit5', ['Париж', 'Франция']],\\\n",
    "\t['visit6', ['Лиссабон', 'Португалия']],\\\n",
    "\t['visit7', ['Тула', 'Россия']],\\\n",
    "\t['visit8', ['Тула', 'Россия']],\\\n",
    "\t['visit9', ['Курск', 'Россия']],\\\n",
    "\t['visit10', ['Архангельск', 'Россия']],\\\n",
    "]\n"
   ]
  },
  {
   "cell_type": "code",
   "execution_count": 37,
   "id": "7abcea88-ea1b-488c-9015-b1cd56d3c9c2",
   "metadata": {},
   "outputs": [],
   "source": [
    "geo_logs = [ \n",
    "    ['visit1', ['Москва', 'Россия']], \n",
    "    ['visit2', ['Дели', 'Индия']], \n",
    "    ['visit3', ['Владимир', 'Россия']], \n",
    "    ['visit4', ['Лиссабон', 'Португалия']], \n",
    "    ['visit5', ['Париж', 'Франция']], \n",
    "    ['visit6', ['Лиссабон', 'Португалия']], \n",
    "    ['visit7', ['Тула', 'Россия']], \n",
    "    ['visit8', ['Тула', 'Россия']], \n",
    "    ['visit9', ['Курск', 'Россия']], \n",
    "    ['visit10', ['Архангельск', 'Россия']], \n",
    "]"
   ]
  },
  {
   "cell_type": "code",
   "execution_count": 33,
   "id": "f6ae4499-4414-4a44-a008-419aad1f8b99",
   "metadata": {},
   "outputs": [
    {
     "name": "stdout",
     "output_type": "stream",
     "text": [
      "['visit1', ['Москва', 'Россия']]\n",
      "['visit3', ['Владимир', 'Россия']]\n",
      "['visit7', ['Тула', 'Россия']]\n",
      "['visit8', ['Тула', 'Россия']]\n",
      "['visit9', ['Курск', 'Россия']]\n",
      "['visit10', ['Архангельск', 'Россия']]\n"
     ]
    }
   ],
   "source": [
    "for i in geo_logs:\n",
    "    if(i[1][1]) == 'Россия':\n",
    "        print(i)"
   ]
  },
  {
   "cell_type": "markdown",
   "id": "c1c4b848-ccb9-45eb-824a-9e2f02c38309",
   "metadata": {},
   "source": [
    "или"
   ]
  },
  {
   "cell_type": "code",
   "execution_count": 39,
   "id": "8ebcc3d7-b154-41cf-bf83-82505f8b9103",
   "metadata": {},
   "outputs": [
    {
     "name": "stdout",
     "output_type": "stream",
     "text": [
      "[['visit1', ['Москва', 'Россия']], ['visit3', ['Владимир', 'Россия']], ['visit7', ['Тула', 'Россия']], ['visit8', ['Тула', 'Россия']], ['visit9', ['Курск', 'Россия']], ['visit10', ['Архангельск', 'Россия']]]\n"
     ]
    }
   ],
   "source": [
    "print([x for x in geo_logs if x[1][1]=='Россия'])"
   ]
  },
  {
   "cell_type": "markdown",
   "id": "96fffd7d-48c8-4117-a298-bb19ca684343",
   "metadata": {},
   "source": [
    "# Задача 2\n",
    "\n",
    "Выведите на экран все уникальные гео-ID из значений словаря ids. Т. е. список вида [213, 15, 54, 119, 98, 35]\n",
    "\n",
    "ids = {'user1': [213, 213, 213, 15, 213], 'user2': [54, 54, 119, 119, 119], 'user3': [213, 98, 98, 35]}"
   ]
  },
  {
   "cell_type": "code",
   "execution_count": 23,
   "id": "5077f2d7-044f-43b6-9a66-af1f4acdfcb3",
   "metadata": {},
   "outputs": [],
   "source": [
    "ids = {'user1': [213, 213, 213, 15, 213], 'user2': [54, 54, 119, 119, 119], 'user3': [213, 98, 98, 35]}"
   ]
  },
  {
   "cell_type": "code",
   "execution_count": 13,
   "id": "e6bb9c1c-e473-4138-8d60-ef4e28c6c1d7",
   "metadata": {},
   "outputs": [
    {
     "data": {
      "text/plain": [
       "{15, 35, 54, 98, 119, 213}"
      ]
     },
     "execution_count": 13,
     "metadata": {},
     "output_type": "execute_result"
    }
   ],
   "source": [
    "uniq_ids=[]\n",
    "for key in ids.values():\n",
    "    uniq_ids=uniq_ids+key\n",
    "set(uniq_ids)"
   ]
  },
  {
   "cell_type": "code",
   "execution_count": null,
   "id": "01325682-b8c2-41d9-be21-4e85f8ac1bb8",
   "metadata": {},
   "outputs": [],
   "source": [
    "или"
   ]
  },
  {
   "cell_type": "code",
   "execution_count": 19,
   "id": "f9e3a386-dea3-4253-bb8b-78c2f6ae4163",
   "metadata": {},
   "outputs": [
    {
     "name": "stdout",
     "output_type": "stream",
     "text": [
      "[15, 35, 54, 98, 119, 213]\n"
     ]
    }
   ],
   "source": [
    "unique_ids = set()  # создаем пустое множество для хранения уникальных id \n",
    "\n",
    "# проходимся по каждому списку значений в словаре и добавляем в множество уникальные id \n",
    "for values in ids.values(): \n",
    "    unique_ids.update(set(values)) \n",
    "\n",
    "# выводим уникальные id на экран \n",
    "print(sorted(unique_ids))"
   ]
  },
  {
   "cell_type": "code",
   "execution_count": null,
   "id": "2b2320cb-e2ee-4d10-87d5-ddf7a7acf9d3",
   "metadata": {},
   "outputs": [],
   "source": [
    "или"
   ]
  },
  {
   "cell_type": "code",
   "execution_count": 25,
   "id": "8ce80803-af71-4483-81e8-5436f7817ac3",
   "metadata": {},
   "outputs": [
    {
     "data": {
      "text/plain": [
       "[213, 15, 54, 119, 98, 35]"
      ]
     },
     "execution_count": 25,
     "metadata": {},
     "output_type": "execute_result"
    }
   ],
   "source": [
    "uniq_ids=[]\n",
    "for key in ids.values():\n",
    "    uniq_ids=uniq_ids+key\n",
    "list(dict.fromkeys(uniq_ids))"
   ]
  },
  {
   "cell_type": "code",
   "execution_count": 27,
   "id": "eb7565b5-39e4-4dd2-b3e2-f14d6d29691d",
   "metadata": {},
   "outputs": [
    {
     "ename": "NameError",
     "evalue": "name 'или' is not defined",
     "output_type": "error",
     "traceback": [
      "\u001b[1;31m---------------------------------------------------------------------------\u001b[0m",
      "\u001b[1;31mNameError\u001b[0m                                 Traceback (most recent call last)",
      "Cell \u001b[1;32mIn[27], line 1\u001b[0m\n\u001b[1;32m----> 1\u001b[0m или\n",
      "\u001b[1;31mNameError\u001b[0m: name 'или' is not defined"
     ]
    }
   ],
   "source": [
    "или"
   ]
  },
  {
   "cell_type": "code",
   "execution_count": 30,
   "id": "edc4022c-a654-4318-a398-e531947b3f8e",
   "metadata": {},
   "outputs": [
    {
     "name": "stdout",
     "output_type": "stream",
     "text": [
      "[98, 35, 15, 213, 54, 119]\n"
     ]
    }
   ],
   "source": [
    "ids = {'user1': [213, 213, 213, 15, 213], 'user2': [54, 54, 119, 119, 119], 'user3': [213, 98, 98, 35]}\n",
    "uniq_ids = set()\n",
    "for vals in ids.values():\n",
    "\tfor v in vals:\n",
    "\t\tuniq_ids.add(v)\n",
    "print(list(uniq_ids))"
   ]
  },
  {
   "cell_type": "markdown",
   "id": "106f508e-2407-4ad5-9fab-e0bf5a3e20a1",
   "metadata": {},
   "source": [
    "# Задача 3\n",
    "Список поисковых запросов. Получить распределение количества слов в них.\n",
    "Т. е. поисковых запросов из одного слова 5%, из двух - 7%, из трех - 3% итд."
   ]
  },
  {
   "cell_type": "code",
   "execution_count": 67,
   "id": "8db7b53f-5d35-4055-91f7-b2c6d0263108",
   "metadata": {},
   "outputs": [],
   "source": [
    "queries = [\n",
    "\t'смотреть сериалы онлайн',\n",
    "\t'новости спорта',\n",
    "\t'афиша кино',\n",
    "\t'курс доллара',\n",
    "\t'сериалы этим летом',\n",
    "\t'курс по питону',\n",
    "\t'сериалы про спорт',\n",
    "]"
   ]
  },
  {
   "cell_type": "code",
   "execution_count": 79,
   "id": "4319e256-25c8-4e0d-b2d6-a035e54c0cb1",
   "metadata": {},
   "outputs": [
    {
     "name": "stdout",
     "output_type": "stream",
     "text": [
      "7\n"
     ]
    },
    {
     "data": {
      "text/plain": [
       "{2, 3}"
      ]
     },
     "execution_count": 79,
     "metadata": {},
     "output_type": "execute_result"
    }
   ],
   "source": [
    "size_queries=len(queries)\n",
    "\n",
    "uniq_queries=[]\n",
    "for i in queries:\n",
    "    uniq_queries.append(len(i.split()))\n",
    "set(uniq_queries)\n",
    "\n",
    "#for i in queries:\n",
    "#    #print(len(i.split()))\n",
    "#    if(len(i.split())) == 3:\n",
    "#        print(i)"
   ]
  },
  {
   "cell_type": "code",
   "execution_count": null,
   "id": "1b8fe9b8-b53a-4956-a24a-2ee11b7ca819",
   "metadata": {},
   "outputs": [],
   "source": []
  }
 ],
 "metadata": {
  "kernelspec": {
   "display_name": "Python [conda env:base] *",
   "language": "python",
   "name": "conda-base-py"
  },
  "language_info": {
   "codemirror_mode": {
    "name": "ipython",
    "version": 3
   },
   "file_extension": ".py",
   "mimetype": "text/x-python",
   "name": "python",
   "nbconvert_exporter": "python",
   "pygments_lexer": "ipython3",
   "version": "3.12.7"
  }
 },
 "nbformat": 4,
 "nbformat_minor": 5
}
