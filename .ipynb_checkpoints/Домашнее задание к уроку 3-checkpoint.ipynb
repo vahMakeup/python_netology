{
 "cells": [
  {
   "cell_type": "markdown",
   "id": "0348764a-fc54-4c9e-8903-5057f860918a",
   "metadata": {},
   "source": [
    "# Задание 1\n",
    "Дан список вида:\n",
    "data = [\n",
    "[13, 25, 23, 34],\n",
    "[45, 32, 44, 47],\n",
    "[12, 33, 23, 95],\n",
    "[13, 53, 34, 35],\n",
    "]\n",
    "\n",
    "Напишите функцию, которая возвращает сумму элементов на диагонали. Т. е. 13+32+23+35."
   ]
  },
  {
   "cell_type": "code",
   "execution_count": 3,
   "id": "0468ab25-8b03-4574-ba0a-b2e2f3e18d80",
   "metadata": {},
   "outputs": [],
   "source": [
    "data = [\n",
    "[13, 25, 23, 34],\n",
    "[45, 32, 44, 47],\n",
    "[12, 33, 23, 95],\n",
    "[13, 53, 34, 35],\n",
    "]"
   ]
  },
  {
   "cell_type": "code",
   "execution_count": 31,
   "id": "dadba901-a641-46da-9ebb-e43b283ffd9d",
   "metadata": {},
   "outputs": [],
   "source": [
    "def sum_diag(nabor):\n",
    "    j=0\n",
    "    sum=0\n",
    "    for i in nabor:\n",
    "        sum+=i[j]\n",
    "        j+=1\n",
    "    return sum"
   ]
  },
  {
   "cell_type": "code",
   "execution_count": 35,
   "id": "babe785e-31a3-44f2-9ab8-40960c59cdfe",
   "metadata": {},
   "outputs": [
    {
     "name": "stdout",
     "output_type": "stream",
     "text": [
      "Сумма элементов на диагонали = 103\n"
     ]
    }
   ],
   "source": [
    "print('Сумма элементов на диагонали = {}'.format(sum_diag(data)))"
   ]
  },
  {
   "cell_type": "markdown",
   "id": "0016e27f-7df8-4d3f-be86-38babff7ea66",
   "metadata": {},
   "source": [
    "# Задание 2\n",
    "Дан список чисел, часть из которых имеют строковый тип или содержат буквы. Напишите функцию, которая возвращает сумму квадратов элементов, которые могут быть числами."
   ]
  },
  {
   "cell_type": "code",
   "execution_count": 2,
   "id": "108fedf5-b3da-4154-a03e-2db23f91ebe0",
   "metadata": {},
   "outputs": [],
   "source": [
    "data = [1, '5', 'abc', 20, '2']"
   ]
  },
  {
   "cell_type": "code",
   "execution_count": 4,
   "id": "682ac2a5-0748-41e8-aa26-cd1974ed289b",
   "metadata": {},
   "outputs": [],
   "source": [
    "def sum_kv(numbers):\n",
    "    sum=0\n",
    "    for i in numbers:\n",
    "        sum+=i**2\n",
    "    return sum"
   ]
  },
  {
   "cell_type": "code",
   "execution_count": 11,
   "id": "7c70868f-8c88-4840-853b-390449bdfd9a",
   "metadata": {},
   "outputs": [
    {
     "name": "stdout",
     "output_type": "stream",
     "text": [
      "Сумма квадратов элементов, которые могут быть числами. = 401\n"
     ]
    }
   ],
   "source": [
    "numbers=[]\n",
    "for i in data:\n",
    "    if type(i)==int:\n",
    "        numbers.append(i)\n",
    "print('Сумма квадратов элементов, которые могут быть числами = {}'.format(sum_kv(numbers)))   "
   ]
  },
  {
   "cell_type": "markdown",
   "id": "aae2106a-ae83-4833-b140-78930ad4e0b2",
   "metadata": {},
   "source": [
    "# Задание 3\n",
    "Напишите функцию, которая возвращает название валюты (поле ‘Name’) с максимальным значением курса с помощью сервиса https://www.cbr-xml-daily.ru/daily_json.js\n"
   ]
  },
  {
   "cell_type": "code",
   "execution_count": 18,
   "id": "b892dc4f-639f-4a22-8d97-96e408e16245",
   "metadata": {},
   "outputs": [],
   "source": [
    "from operator import itemgetter\n",
    "import requests"
   ]
  },
  {
   "cell_type": "code",
   "execution_count": 19,
   "id": "781244dc-5034-499c-b4a4-a5c837a6b6c1",
   "metadata": {},
   "outputs": [],
   "source": [
    "class Rate:\n",
    "    def __init__(self, format_='value'):\n",
    "        self.format = format_\n",
    "\n",
    "    def exchange_rates(self):\n",
    "        self.r = requests.get('https://www.cbr-xml-daily.ru/daily_json.js')\n",
    "        return self.r.json()['Valute']\n",
    "\n",
    "    def max_rate(self):\n",
    "        getter = itemgetter('Name', 'Value')\n",
    "        rates = [getter(info) for info in self.exchange_rates().values()]\n",
    "        return max(rates, key=itemgetter(1))  # Return Name, Value with max Value."
   ]
  },
  {
   "cell_type": "code",
   "execution_count": 21,
   "id": "8ccc800c-87f3-4267-b629-5cfbac2ba400",
   "metadata": {},
   "outputs": [
    {
     "name": "stdout",
     "output_type": "stream",
     "text": [
      "Валюта с максимальным значением курса - ('СДР (специальные права заимствования)', 112.6406)\n"
     ]
    }
   ],
   "source": [
    "r = Rate()\n",
    "print('Валюта с максимальным значением курса - {}'.format(r.max_rate()))"
   ]
  },
  {
   "cell_type": "markdown",
   "id": "b526a59b-be7b-4c42-820c-d5d85248bb9a",
   "metadata": {},
   "source": [
    "# Задание 4\n",
    "Последнее упражнение с занятия\n",
    "\n",
    "    Добавьте в класс еще один формат, который возвращает название валюты (например, ‘Евро’).\n",
    "\n",
    "    Добавьте в класс параметр diff (со значениями True или False), который в случае значения True в методах eur и usd будет возвращать не курс валюты, а изменение по сравнению в прошлым значением.\n",
    "\n"
   ]
  },
  {
   "cell_type": "code",
   "execution_count": 25,
   "id": "cc091280-788e-4803-b1d4-ceac90c9823d",
   "metadata": {},
   "outputs": [
    {
     "name": "stdout",
     "output_type": "stream",
     "text": [
      "Евро\n",
      "Изменение по сравнению c прошлым значением -1.037\n"
     ]
    }
   ],
   "source": [
    "import requests\n",
    "\n",
    "\n",
    "class Rate:\n",
    "    def __init__(self, format='value',diff=False):\n",
    "        self.format = format\n",
    "        self.diff=diff\n",
    "\n",
    "\n",
    "    def exchange_rates(self):\n",
    "        r = requests.get('https://www.cbr-xml-daily.ru/daily_json.js')\n",
    "        return r.json()['Valute']\n",
    "\n",
    "    def make_format(self, currency):\n",
    "        response = self.exchange_rates()\n",
    "\n",
    "        if currency in response:\n",
    "            if self.format == 'full':\n",
    "                return response[currency]\n",
    "\n",
    "            if self.format == 'value':\n",
    "                if not self.diff:\n",
    "                    return response[currency]['Value']\n",
    "                else:\n",
    "                    return response[currency]['Value']-response[currency]['Previous']\n",
    "\n",
    "            if self.format=='currency_name':\n",
    "                return response[currency]['Name']\n",
    "\n",
    "        return 'Error'\n",
    "\n",
    "    def eur(self):\n",
    "        \"\"\"Возвращает курс евро на сегодня в формате self.format если diff=False иначе именение\"\"\"\n",
    "        return self.make_format('EUR')\n",
    "\n",
    "    def usd(self):\n",
    "        \"\"\"Возвращает курс доллара на сегодня в формате self.format\"\"\"\n",
    "        return self.make_format('USD')\n",
    "\n",
    "\n",
    "print (Rate(format='currency_name').make_format('EUR'))\n",
    "print (\"Изменение по сравнению c прошлым значением {:.3f}\".format(Rate(diff=True).eur()))\n"
   ]
  },
  {
   "cell_type": "markdown",
   "id": "16248be5-24db-4651-bdef-246f09957ad9",
   "metadata": {},
   "source": [
    "# Задание 5\n",
    "Напишите функцию, возвращающую сумму первых n чисел Фибоначчи\n"
   ]
  },
  {
   "cell_type": "code",
   "execution_count": 4,
   "id": "4df3472b-034a-4b60-97ef-78ab01b27477",
   "metadata": {},
   "outputs": [
    {
     "name": "stdout",
     "output_type": "stream",
     "text": [
      "Сумма первых 20 чисел Фибоначчи равна 55\n"
     ]
    }
   ],
   "source": [
    "n = 20\n",
    "i = 0\n",
    "f=1\n",
    "sum=0\n",
    "# print(i)\n",
    "# print(f)\n",
    "sum=i+f\n",
    "while i <= n:\n",
    "    i=i+f\n",
    "    f=f+i\n",
    "    sum=i+f\n",
    "    # print(i)\n",
    "    # print(f)\n",
    "print('Сумма первых {} чисел Фибоначчи равна {}'.format(n, sum))"
   ]
  },
  {
   "cell_type": "markdown",
   "id": "d71f43f6-9a13-4481-96b4-0f9c9296f9a6",
   "metadata": {},
   "source": [
    "# Задание 6\n",
    "Напишите функцию, преобразующую произвольный список вида [‘2018-01-01’, ‘yandex’, ‘cpc’, 100] в словарь {‘2018-01-01’: {‘yandex’: {‘cpc’: 100}}}\n"
   ]
  },
  {
   "cell_type": "code",
   "execution_count": 30,
   "id": "ac31310e-7e31-4be2-8e4c-956e97dc7191",
   "metadata": {},
   "outputs": [
    {
     "data": {
      "text/plain": [
       "{'2018-01-01': {'yandex': {'cpc': {100: 0}}}}"
      ]
     },
     "execution_count": 30,
     "metadata": {},
     "output_type": "execute_result"
    }
   ],
   "source": [
    "x = dict.fromkeys(['2018-01-01'],(dict.fromkeys(['yandex'],(dict.fromkeys(['cpc'], (dict.fromkeys([100],0)))))))\n",
    "x"
   ]
  },
  {
   "cell_type": "code",
   "execution_count": 20,
   "id": "c7a5afa8-f904-4ff8-bcb5-85be8bc28140",
   "metadata": {},
   "outputs": [
    {
     "name": "stdout",
     "output_type": "stream",
     "text": [
      "{'2018-01-01': {'yandex': {'cpc': 100}}}\n"
     ]
    }
   ],
   "source": [
    "x = ['2018-01-01', 'yandex', 'cpc', 100]\n",
    "\n",
    "y = {x[-2]: x[-1]}\n",
    "for i in x[:-2][::-1]:\n",
    "    y = {i: y}\n",
    "print(y)"
   ]
  }
 ],
 "metadata": {
  "kernelspec": {
   "display_name": "Python 3 (ipykernel)",
   "language": "python",
   "name": "python3"
  },
  "language_info": {
   "codemirror_mode": {
    "name": "ipython",
    "version": 3
   },
   "file_extension": ".py",
   "mimetype": "text/x-python",
   "name": "python",
   "nbconvert_exporter": "python",
   "pygments_lexer": "ipython3",
   "version": "3.12.7"
  }
 },
 "nbformat": 4,
 "nbformat_minor": 5
}
