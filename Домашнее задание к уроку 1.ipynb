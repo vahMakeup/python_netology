{
 "cells": [
  {
   "cell_type": "markdown",
   "id": "cf8ed5e0-14a5-440a-bccd-7d2f32f40ac1",
   "metadata": {},
   "source": [
    "### Задание 1\n",
    "Даны 2 строки long_phrase и short_phrase. Напишите код, который проверяет действительно ли длинная фраза long_phrase длиннее короткой short_phrase. И выводит True или False в зависимости от результата сравнения.\n",
    "\n",
    "long_phrase = 'Насколько проще было бы писать п\n",
    "рограммы, если бы не заказчики'\n",
    "short_phrase = '640Кб должно хватить для любых задач. Билл Гейтс (по легенде)'"
   ]
  },
  {
   "cell_type": "code",
   "execution_count": 17,
   "id": "376d8114-00c2-49f5-8822-0d71a230caf0",
   "metadata": {},
   "outputs": [
    {
     "name": "stdout",
     "output_type": "stream",
     "text": [
      "True\n"
     ]
    }
   ],
   "source": [
    "long_phrase = 'Насколько проще было бы писать программы, если бы не заказчики'\n",
    "short_phrase = '640Кб должно хватить для любых задач. Билл Гейтс (по легенде)'\n",
    "if len(long_phrase)>len(short_phrase):\n",
    "    print('True')\n",
    "else:\n",
    "    print('False')"
   ]
  },
  {
   "cell_type": "markdown",
   "id": "34702cf2-899e-4f84-9e9a-0f88c5314d9a",
   "metadata": {},
   "source": [
    "### Задание 2\n",
    "Дана строка text. Определите какая из двух букв встречается в нем чаще - 'а' или 'и'.\n",
    "text = 'Если программист в 9-00 утра на работе, значит, он там и ночевал'\n",
    "\n",
    "P. S. Вам может помочь методы replace или count для строк."
   ]
  },
  {
   "cell_type": "code",
   "execution_count": 42,
   "id": "ac1aa851-afb6-45a4-a5af-0f3f9ff76cb1",
   "metadata": {},
   "outputs": [
    {
     "name": "stdout",
     "output_type": "stream",
     "text": [
      "Буква \"а\" встречается чаще, чем буква \"и\"\n"
     ]
    }
   ],
   "source": [
    "text = 'Если программист в 9-00 утра на работе, значит, он там и ночевал'\n",
    "if text.count('а') > text.count('и'):\n",
    "    print('Буква \"а\" встречается чаще, чем буква \"и\"')\n",
    "else:\n",
    "    print('Буква \"и\" встречается чаще, чем буква \"а\"')"
   ]
  },
  {
   "cell_type": "markdown",
   "id": "fc85d8f6-eb67-4771-87f0-4e884013dba3",
   "metadata": {},
   "source": [
    "### Задание 3\n",
    " Дано значение объема файла в байтах. Напишите перевод этого значения в мегабайты в формате:\n",
    "'Объем файла равен 213.68Mb'\n",
    "\n",
    "P. S. Найдите определение килобайта. Это не 1000 байт.\n"
   ]
  },
  {
   "cell_type": "code",
   "execution_count": 37,
   "id": "de2b255d-ec4f-4069-92cd-0fd55587c49c",
   "metadata": {},
   "outputs": [
    {
     "name": "stdout",
     "output_type": "stream",
     "text": [
      "Объем файла равен 213.68Mb\n"
     ]
    }
   ],
   "source": [
    "file_size_byte=224059719\n",
    "print('Объем файла равен {:.2f}Mb'.format(file_size_byte/(1024**2)))\n"
   ]
  },
  {
   "cell_type": "markdown",
   "id": "d688052d-9d0f-44f7-b007-8d9ae03abc6b",
   "metadata": {},
   "source": [
    "### Задание 4\n",
    "Выведите на экран значение синуса 30 градусов с помощью метода math.sin."
   ]
  },
  {
   "cell_type": "code",
   "execution_count": 45,
   "id": "fa87ee31-681b-42f1-9cf3-9f45b5dbbf94",
   "metadata": {},
   "outputs": [
    {
     "name": "stdout",
     "output_type": "stream",
     "text": [
      "0.49999999999999994\n"
     ]
    }
   ],
   "source": [
    "import math\n",
    "print(math.sin(math.radians(30)))"
   ]
  },
  {
   "cell_type": "code",
   "execution_count": null,
   "id": "8caa9495-ee72-489e-bf18-0ad5f941b93f",
   "metadata": {},
   "outputs": [],
   "source": []
  }
 ],
 "metadata": {
  "kernelspec": {
   "display_name": "Python [conda env:base] *",
   "language": "python",
   "name": "conda-base-py"
  },
  "language_info": {
   "codemirror_mode": {
    "name": "ipython",
    "version": 3
   },
   "file_extension": ".py",
   "mimetype": "text/x-python",
   "name": "python",
   "nbconvert_exporter": "python",
   "pygments_lexer": "ipython3",
   "version": "3.12.7"
  }
 },
 "nbformat": 4,
 "nbformat_minor": 5
}
