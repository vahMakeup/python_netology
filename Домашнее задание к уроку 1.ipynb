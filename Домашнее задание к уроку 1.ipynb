{
 "cells": [
  {
   "cell_type": "markdown",
   "id": "3b6fcf21-2224-4f36-bf38-65f2905db1cf",
   "metadata": {},
   "source": [
    "## Простые задания"
   ]
  },
  {
   "cell_type": "markdown",
   "id": "cf8ed5e0-14a5-440a-bccd-7d2f32f40ac1",
   "metadata": {},
   "source": [
    "### Задание 1\n",
    "Даны 2 строки long_phrase и short_phrase. Напишите код, который проверяет действительно ли длинная фраза long_phrase длиннее короткой short_phrase. И выводит True или False в зависимости от результата сравнения.\n",
    "\n",
    "long_phrase = 'Насколько проще было бы писать п\n",
    "рограммы, если бы не заказчики'\n",
    "short_phrase = '640Кб должно хватить для любых задач. Билл Гейтс (по легенде)'"
   ]
  },
  {
   "cell_type": "code",
   "execution_count": 17,
   "id": "376d8114-00c2-49f5-8822-0d71a230caf0",
   "metadata": {},
   "outputs": [
    {
     "name": "stdout",
     "output_type": "stream",
     "text": [
      "True\n"
     ]
    }
   ],
   "source": [
    "long_phrase = 'Насколько проще было бы писать программы, если бы не заказчики'\n",
    "short_phrase = '640Кб должно хватить для любых задач. Билл Гейтс (по легенде)'\n",
    "if len(long_phrase)>len(short_phrase):\n",
    "    print('True')\n",
    "else:\n",
    "    print('False')"
   ]
  },
  {
   "cell_type": "markdown",
   "id": "34702cf2-899e-4f84-9e9a-0f88c5314d9a",
   "metadata": {},
   "source": [
    "### Задание 2\n",
    "Дана строка text. Определите какая из двух букв встречается в нем чаще - 'а' или 'и'.\n",
    "text = 'Если программист в 9-00 утра на работе, значит, он там и ночевал'\n",
    "\n",
    "P. S. Вам может помочь методы replace или count для строк."
   ]
  },
  {
   "cell_type": "code",
   "execution_count": 42,
   "id": "ac1aa851-afb6-45a4-a5af-0f3f9ff76cb1",
   "metadata": {},
   "outputs": [
    {
     "name": "stdout",
     "output_type": "stream",
     "text": [
      "Буква \"а\" встречается чаще, чем буква \"и\"\n"
     ]
    }
   ],
   "source": [
    "text = 'Если программист в 9-00 утра на работе, значит, он там и ночевал'\n",
    "if text.count('а') > text.count('и'):\n",
    "    print('Буква \"а\" встречается чаще, чем буква \"и\"')\n",
    "else:\n",
    "    print('Буква \"и\" встречается чаще, чем буква \"а\"')"
   ]
  },
  {
   "cell_type": "markdown",
   "id": "fc85d8f6-eb67-4771-87f0-4e884013dba3",
   "metadata": {},
   "source": [
    "### Задание 3\n",
    " Дано значение объема файла в байтах. Напишите перевод этого значения в мегабайты в формате:\n",
    "'Объем файла равен 213.68Mb'\n",
    "\n",
    "P. S. Найдите определение килобайта. Это не 1000 байт.\n"
   ]
  },
  {
   "cell_type": "code",
   "execution_count": 37,
   "id": "de2b255d-ec4f-4069-92cd-0fd55587c49c",
   "metadata": {},
   "outputs": [
    {
     "name": "stdout",
     "output_type": "stream",
     "text": [
      "Объем файла равен 213.68Mb\n"
     ]
    }
   ],
   "source": [
    "file_size_byte=224059719\n",
    "print('Объем файла равен {:.2f}Mb'.format(file_size_byte/(1024**2)))\n"
   ]
  },
  {
   "cell_type": "markdown",
   "id": "d688052d-9d0f-44f7-b007-8d9ae03abc6b",
   "metadata": {},
   "source": [
    "### Задание 4\n",
    "Выведите на экран значение синуса 30 градусов с помощью метода math.sin."
   ]
  },
  {
   "cell_type": "code",
   "execution_count": 45,
   "id": "fa87ee31-681b-42f1-9cf3-9f45b5dbbf94",
   "metadata": {},
   "outputs": [
    {
     "name": "stdout",
     "output_type": "stream",
     "text": [
      "0.49999999999999994\n"
     ]
    }
   ],
   "source": [
    "import math\n",
    "print(math.sin(math.radians(30)))"
   ]
  },
  {
   "cell_type": "markdown",
   "id": "3380229d-031a-4133-bf0c-31cdda178e92",
   "metadata": {},
   "source": [
    "### Задание 5\n",
    "В прошлом задании у вас скорее всего не получилось точного значения 0.5 из-за конечной точности вычисления синуса. Но почему некоторые простые операции также могут давать неточный результат? Попробуйте вывести на экран результат операции 0.1 + 0.2. Почему результат неточен?"
   ]
  },
  {
   "cell_type": "code",
   "execution_count": 59,
   "id": "31563dda-8002-4fe1-91e0-48abeaf5b449",
   "metadata": {},
   "outputs": [
    {
     "data": {
      "text/plain": [
       "0.30000000000000004"
      ]
     },
     "execution_count": 59,
     "metadata": {},
     "output_type": "execute_result"
    }
   ],
   "source": [
    "0.1 + 0.2"
   ]
  },
  {
   "cell_type": "markdown",
   "id": "56e3e2af-77a1-46a7-9efa-b44d1bf045b9",
   "metadata": {},
   "source": [
    "Ошибка представления связана с тем, что некоторые (на самом деле большинство) десятичные дроби не могут быть точно представлены в виде двоичных (основанных на 2) дробей. Это основная причина, по которой Python часто не отображает точное десятичное число, которое ожидается увидеть"
   ]
  },
  {
   "cell_type": "markdown",
   "id": "71874811-3d29-4d9d-b024-8cbee35443c3",
   "metadata": {},
   "source": [
    "## Задания посложнее"
   ]
  },
  {
   "cell_type": "markdown",
   "id": "eaf99cb0-5490-4935-aae4-49c90ce25dc5",
   "metadata": {},
   "source": [
    "### Задание 1\n",
    "В переменных a и b записаны 2 различных числа. Вам необходимо написать код, который меняет значения a и b местами без использования третьей переменной.\n"
   ]
  },
  {
   "cell_type": "code",
   "execution_count": 87,
   "id": "6e15a6d4-69ad-4dc5-9a39-2ebc81fb50cb",
   "metadata": {},
   "outputs": [
    {
     "name": "stdout",
     "output_type": "stream",
     "text": [
      " a = 2; b = 5\n",
      " a = 5; b = 2\n"
     ]
    }
   ],
   "source": [
    "a = 2\n",
    "b = 5\n",
    "print (' a = ' + str(a) + '; b = ' + str(b))\n",
    "a = a+b\n",
    "b = a-b\n",
    "a = a-b\n",
    "print (' a = ' + str(a) + '; b = ' + str(b))"
   ]
  },
  {
   "cell_type": "markdown",
   "id": "e31bf262-eb64-4248-a7d6-bbe056675031",
   "metadata": {},
   "source": [
    "### Задание 2\n",
    "Дано число в двоичной системе счисления: num=10011. Напишите алгоритм перевода этого числа в привычную нам десятичную систему счисления.\n",
    "Возможно, вам понадобится цикл прохождения всех целых чисел от 0 до m:\n",
    "for n in range(m)"
   ]
  },
  {
   "cell_type": "code",
   "execution_count": 97,
   "id": "f1cb6234-cc26-4b72-aa5a-ef5eeb9e22fe",
   "metadata": {},
   "outputs": [
    {
     "name": "stdout",
     "output_type": "stream",
     "text": [
      "19\n"
     ]
    }
   ],
   "source": [
    "num='10011'\n",
    "decimal_number= int (num, 2) \n",
    "print (decimal_number) "
   ]
  },
  {
   "cell_type": "code",
   "execution_count": 95,
   "id": "2befc120-5443-48f3-afce-65e80549ab14",
   "metadata": {},
   "outputs": [
    {
     "name": "stdout",
     "output_type": "stream",
     "text": [
      "19\n"
     ]
    }
   ],
   "source": [
    "num = 10011 \n",
    "num_10 = 0\n",
    "for i in str(num):\n",
    "\tnum_10 = num_10*2+int(i)\n",
    "print(num_10)"
   ]
  }
 ],
 "metadata": {
  "kernelspec": {
   "display_name": "Python [conda env:base] *",
   "language": "python",
   "name": "conda-base-py"
  },
  "language_info": {
   "codemirror_mode": {
    "name": "ipython",
    "version": 3
   },
   "file_extension": ".py",
   "mimetype": "text/x-python",
   "name": "python",
   "nbconvert_exporter": "python",
   "pygments_lexer": "ipython3",
   "version": "3.12.7"
  }
 },
 "nbformat": 4,
 "nbformat_minor": 5
}
