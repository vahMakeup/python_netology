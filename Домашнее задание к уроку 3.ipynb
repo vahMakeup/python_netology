{
 "cells": [
  {
   "cell_type": "markdown",
   "id": "0348764a-fc54-4c9e-8903-5057f860918a",
   "metadata": {},
   "source": [
    "# Задание 1\n",
    "Дан список вида:\n",
    "data = [\n",
    "[13, 25, 23, 34],\n",
    "[45, 32, 44, 47],\n",
    "[12, 33, 23, 95],\n",
    "[13, 53, 34, 35],\n",
    "]\n",
    "\n",
    "Напишите функцию, которая возвращает сумму элементов на диагонали. Т. е. 13+32+23+35."
   ]
  },
  {
   "cell_type": "code",
   "execution_count": 3,
   "id": "0468ab25-8b03-4574-ba0a-b2e2f3e18d80",
   "metadata": {},
   "outputs": [],
   "source": [
    "data = [\n",
    "[13, 25, 23, 34],\n",
    "[45, 32, 44, 47],\n",
    "[12, 33, 23, 95],\n",
    "[13, 53, 34, 35],\n",
    "]"
   ]
  },
  {
   "cell_type": "code",
   "execution_count": 31,
   "id": "dadba901-a641-46da-9ebb-e43b283ffd9d",
   "metadata": {},
   "outputs": [],
   "source": [
    "def sum_diag(nabor):\n",
    "    j=0\n",
    "    sum=0\n",
    "    for i in nabor:\n",
    "        sum+=i[j]\n",
    "        j+=1\n",
    "    return sum"
   ]
  },
  {
   "cell_type": "code",
   "execution_count": 35,
   "id": "babe785e-31a3-44f2-9ab8-40960c59cdfe",
   "metadata": {},
   "outputs": [
    {
     "name": "stdout",
     "output_type": "stream",
     "text": [
      "Сумма элементов на диагонали = 103\n"
     ]
    }
   ],
   "source": [
    "print('Сумма элементов на диагонали = {}'.format(sum_diag(data)))"
   ]
  },
  {
   "cell_type": "markdown",
   "id": "0016e27f-7df8-4d3f-be86-38babff7ea66",
   "metadata": {},
   "source": [
    "# Задание 2\n",
    "Дан список чисел, часть из которых имеют строковый тип или содержат буквы. Напишите функцию, которая возвращает сумму квадратов элементов, которые могут быть числами."
   ]
  },
  {
   "cell_type": "code",
   "execution_count": 2,
   "id": "108fedf5-b3da-4154-a03e-2db23f91ebe0",
   "metadata": {},
   "outputs": [],
   "source": [
    "data = [1, '5', 'abc', 20, '2']"
   ]
  },
  {
   "cell_type": "code",
   "execution_count": 4,
   "id": "682ac2a5-0748-41e8-aa26-cd1974ed289b",
   "metadata": {},
   "outputs": [],
   "source": [
    "def sum_kv(numbers):\n",
    "    sum=0\n",
    "    for i in numbers:\n",
    "        sum+=i**2\n",
    "    return sum"
   ]
  },
  {
   "cell_type": "code",
   "execution_count": 11,
   "id": "7c70868f-8c88-4840-853b-390449bdfd9a",
   "metadata": {},
   "outputs": [
    {
     "name": "stdout",
     "output_type": "stream",
     "text": [
      "Сумма квадратов элементов, которые могут быть числами. = 401\n"
     ]
    }
   ],
   "source": [
    "numbers=[]\n",
    "for i in data:\n",
    "    if type(i)==int:\n",
    "        numbers.append(i)\n",
    "print('Сумма квадратов элементов, которые могут быть числами = {}'.format(sum_kv(numbers)))   "
   ]
  },
  {
   "cell_type": "code",
   "execution_count": null,
   "id": "62bcf035-8ade-41c3-912c-13444fe64fc1",
   "metadata": {},
   "outputs": [],
   "source": []
  }
 ],
 "metadata": {
  "kernelspec": {
   "display_name": "Python 3 (ipykernel)",
   "language": "python",
   "name": "python3"
  },
  "language_info": {
   "codemirror_mode": {
    "name": "ipython",
    "version": 3
   },
   "file_extension": ".py",
   "mimetype": "text/x-python",
   "name": "python",
   "nbconvert_exporter": "python",
   "pygments_lexer": "ipython3",
   "version": "3.12.7"
  }
 },
 "nbformat": 4,
 "nbformat_minor": 5
}
