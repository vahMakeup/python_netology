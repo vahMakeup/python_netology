{
 "cells": [
  {
   "cell_type": "markdown",
   "id": "02a88bd5-f9e6-42dd-b796-490b46cca20c",
   "metadata": {},
   "source": [
    "# Задача 1\n",
    "Дан список с визитами по городам и странам.\n",
    "Напишите код, который возвращает отфильтрованный список geo_logs, содержащий только визиты из России.\n",
    "Считайте, что список geo_logs легко помещается в оперативной памяти.\n",
    "\n",
    "geo_logs = [\\\n",
    "\t['visit1', ['Москва', 'Россия']],\\\n",
    "\t['visit2', ['Дели', 'Индия']],\\\n",
    "\t['visit3', ['Владимир', 'Россия']],\\\n",
    "\t['visit4', ['Лиссабон', 'Португалия']],\\\n",
    "\t['visit5', ['Париж', 'Франция']],\\\n",
    "\t['visit6', ['Лиссабон', 'Португалия']],\\\n",
    "\t['visit7', ['Тула', 'Россия']],\\\n",
    "\t['visit8', ['Тула', 'Россия']],\\\n",
    "\t['visit9', ['Курск', 'Россия']],\\\n",
    "\t['visit10', ['Архангельск', 'Россия']],\\\n",
    "]\n"
   ]
  },
  {
   "cell_type": "code",
   "execution_count": 37,
   "id": "7abcea88-ea1b-488c-9015-b1cd56d3c9c2",
   "metadata": {},
   "outputs": [],
   "source": [
    "geo_logs = [ \n",
    "    ['visit1', ['Москва', 'Россия']], \n",
    "    ['visit2', ['Дели', 'Индия']], \n",
    "    ['visit3', ['Владимир', 'Россия']], \n",
    "    ['visit4', ['Лиссабон', 'Португалия']], \n",
    "    ['visit5', ['Париж', 'Франция']], \n",
    "    ['visit6', ['Лиссабон', 'Португалия']], \n",
    "    ['visit7', ['Тула', 'Россия']], \n",
    "    ['visit8', ['Тула', 'Россия']], \n",
    "    ['visit9', ['Курск', 'Россия']], \n",
    "    ['visit10', ['Архангельск', 'Россия']], \n",
    "]"
   ]
  },
  {
   "cell_type": "code",
   "execution_count": 33,
   "id": "f6ae4499-4414-4a44-a008-419aad1f8b99",
   "metadata": {},
   "outputs": [
    {
     "name": "stdout",
     "output_type": "stream",
     "text": [
      "['visit1', ['Москва', 'Россия']]\n",
      "['visit3', ['Владимир', 'Россия']]\n",
      "['visit7', ['Тула', 'Россия']]\n",
      "['visit8', ['Тула', 'Россия']]\n",
      "['visit9', ['Курск', 'Россия']]\n",
      "['visit10', ['Архангельск', 'Россия']]\n"
     ]
    }
   ],
   "source": [
    "for i in geo_logs:\n",
    "    if(i[1][1]) == 'Россия':\n",
    "        print(i)"
   ]
  },
  {
   "cell_type": "markdown",
   "id": "c1c4b848-ccb9-45eb-824a-9e2f02c38309",
   "metadata": {},
   "source": [
    "или"
   ]
  },
  {
   "cell_type": "code",
   "execution_count": 39,
   "id": "8ebcc3d7-b154-41cf-bf83-82505f8b9103",
   "metadata": {},
   "outputs": [
    {
     "name": "stdout",
     "output_type": "stream",
     "text": [
      "[['visit1', ['Москва', 'Россия']], ['visit3', ['Владимир', 'Россия']], ['visit7', ['Тула', 'Россия']], ['visit8', ['Тула', 'Россия']], ['visit9', ['Курск', 'Россия']], ['visit10', ['Архангельск', 'Россия']]]\n"
     ]
    }
   ],
   "source": [
    "print([x for x in geo_logs if x[1][1]=='Россия'])"
   ]
  },
  {
   "cell_type": "markdown",
   "id": "96fffd7d-48c8-4117-a298-bb19ca684343",
   "metadata": {},
   "source": [
    "# Задача 2\n",
    "\n",
    "Выведите на экран все уникальные гео-ID из значений словаря ids. Т. е. список вида [213, 15, 54, 119, 98, 35]\n",
    "\n",
    "ids = {'user1': [213, 213, 213, 15, 213], 'user2': [54, 54, 119, 119, 119], 'user3': [213, 98, 98, 35]}"
   ]
  },
  {
   "cell_type": "code",
   "execution_count": 3,
   "id": "5077f2d7-044f-43b6-9a66-af1f4acdfcb3",
   "metadata": {},
   "outputs": [],
   "source": [
    "ids = {'user1': [213, 213, 213, 15, 213], 'user2': [54, 54, 119, 119, 119], 'user3': [213, 98, 98, 35]}"
   ]
  },
  {
   "cell_type": "code",
   "execution_count": 5,
   "id": "e6bb9c1c-e473-4138-8d60-ef4e28c6c1d7",
   "metadata": {},
   "outputs": [
    {
     "data": {
      "text/plain": [
       "[98, 35, 15, 213, 54, 119]"
      ]
     },
     "execution_count": 5,
     "metadata": {},
     "output_type": "execute_result"
    }
   ],
   "source": [
    "uniq_ids=[]\n",
    "for key in ids.values():\n",
    "    uniq_ids=uniq_ids+key\n",
    "list(set(uniq_ids))"
   ]
  },
  {
   "cell_type": "code",
   "execution_count": null,
   "id": "01325682-b8c2-41d9-be21-4e85f8ac1bb8",
   "metadata": {},
   "outputs": [],
   "source": [
    "или"
   ]
  },
  {
   "cell_type": "code",
   "execution_count": 19,
   "id": "f9e3a386-dea3-4253-bb8b-78c2f6ae4163",
   "metadata": {},
   "outputs": [
    {
     "name": "stdout",
     "output_type": "stream",
     "text": [
      "[15, 35, 54, 98, 119, 213]\n"
     ]
    }
   ],
   "source": [
    "unique_ids = set()  # создаем пустое множество для хранения уникальных id \n",
    "\n",
    "# проходимся по каждому списку значений в словаре и добавляем в множество уникальные id \n",
    "for values in ids.values(): \n",
    "    unique_ids.update(set(values)) \n",
    "\n",
    "# выводим уникальные id на экран \n",
    "print(sorted(unique_ids))"
   ]
  },
  {
   "cell_type": "code",
   "execution_count": null,
   "id": "2b2320cb-e2ee-4d10-87d5-ddf7a7acf9d3",
   "metadata": {},
   "outputs": [],
   "source": [
    "или"
   ]
  },
  {
   "cell_type": "code",
   "execution_count": 25,
   "id": "8ce80803-af71-4483-81e8-5436f7817ac3",
   "metadata": {},
   "outputs": [
    {
     "data": {
      "text/plain": [
       "[213, 15, 54, 119, 98, 35]"
      ]
     },
     "execution_count": 25,
     "metadata": {},
     "output_type": "execute_result"
    }
   ],
   "source": [
    "uniq_ids=[]\n",
    "for key in ids.values():\n",
    "    uniq_ids=uniq_ids+key\n",
    "list(dict.fromkeys(uniq_ids))"
   ]
  },
  {
   "cell_type": "code",
   "execution_count": null,
   "id": "de5a2549-9863-45df-8421-f2d4121d399d",
   "metadata": {},
   "outputs": [],
   "source": [
    "или"
   ]
  },
  {
   "cell_type": "code",
   "execution_count": 30,
   "id": "edc4022c-a654-4318-a398-e531947b3f8e",
   "metadata": {},
   "outputs": [
    {
     "name": "stdout",
     "output_type": "stream",
     "text": [
      "[98, 35, 15, 213, 54, 119]\n"
     ]
    }
   ],
   "source": [
    "ids = {'user1': [213, 213, 213, 15, 213], 'user2': [54, 54, 119, 119, 119], 'user3': [213, 98, 98, 35]}\n",
    "uniq_ids = set()\n",
    "for vals in ids.values():\n",
    "\tfor v in vals:\n",
    "\t\tuniq_ids.add(v)\n",
    "print(list(uniq_ids))"
   ]
  },
  {
   "cell_type": "markdown",
   "id": "106f508e-2407-4ad5-9fab-e0bf5a3e20a1",
   "metadata": {},
   "source": [
    "# Задача 3\n",
    "Список поисковых запросов. Получить распределение количества слов в них.\n",
    "Т. е. поисковых запросов из одного слова 5%, из двух - 7%, из трех - 3% итд."
   ]
  },
  {
   "cell_type": "code",
   "execution_count": 7,
   "id": "8db7b53f-5d35-4055-91f7-b2c6d0263108",
   "metadata": {},
   "outputs": [],
   "source": [
    "queries = [\n",
    "\t'смотреть сериалы онлайн',\n",
    "\t'новости спорта',\n",
    "\t'афиша кино',\n",
    "\t'курс доллара',\n",
    "\t'сериалы этим летом',\n",
    "\t'курс по питону',\n",
    "\t'сериалы про спорт',\n",
    "]"
   ]
  },
  {
   "cell_type": "code",
   "execution_count": 9,
   "id": "4319e256-25c8-4e0d-b2d6-a035e54c0cb1",
   "metadata": {},
   "outputs": [
    {
     "name": "stdout",
     "output_type": "stream",
     "text": [
      "{'3 words in line': '60.00%', '2 words in line': '40.00%'}\n"
     ]
    }
   ],
   "source": [
    "words_count = {}\n",
    "for q in queries:\n",
    "\tl = len(q.split(' '))\n",
    "\twords_count[l] = words_count.get(l, -1)+1\n",
    "words_count = {f'{k} words in line': f'{v/sum(words_count.values()):.2%}' for k,v in words_count.items()} \n",
    "print(words_count)"
   ]
  },
  {
   "cell_type": "code",
   "execution_count": null,
   "id": "b443662f-21c3-43b6-beca-2bf8a5005342",
   "metadata": {},
   "outputs": [],
   "source": [
    "или"
   ]
  },
  {
   "cell_type": "code",
   "execution_count": 11,
   "id": "1b8fe9b8-b53a-4956-a24a-2ee11b7ca819",
   "metadata": {},
   "outputs": [
    {
     "name": "stdout",
     "output_type": "stream",
     "text": [
      "Поисковых запросов из 3 слова: 57.14% (4 запр.)\n",
      "Поисковых запросов из 2 слова: 42.86% (3 запр.)\n"
     ]
    }
   ],
   "source": [
    "storage = {}\n",
    "for query in queries:\n",
    "    words = query.split()\n",
    "    if len(words) in storage.keys():\n",
    "        storage[len(words)] += 1\n",
    "    else:\n",
    "        storage.update({ len(words): 1 })\n",
    "\n",
    "for key, value in storage.items():\n",
    "    percentage = round((value / len(queries)) * 100, 2)\n",
    "    print(f'Поисковых запросов из {key} слова: {percentage}% ({value} запр.)')"
   ]
  },
  {
   "cell_type": "markdown",
   "id": "453276da-9ce1-4199-81b7-826910cc4831",
   "metadata": {},
   "source": [
    "# Задание 4\n",
    "Дана статистика рекламных каналов по объемам продаж. Напишите скрипт, который возвращает название канала с максимальным объемом.\n",
    "Т. е. в данном примере скрипт должен возвращать 'yandex'."
   ]
  },
  {
   "cell_type": "code",
   "execution_count": 41,
   "id": "1bbd28b9-e643-4c49-9b73-5ad2a7331aba",
   "metadata": {},
   "outputs": [],
   "source": [
    "stats = {'facebook': 55, 'yandex': 120, 'vk': 115, 'google': 99, 'email': 42, 'ok': 98}"
   ]
  },
  {
   "cell_type": "code",
   "execution_count": 29,
   "id": "af4311cb-1f3c-4e74-a88d-547febc3b9fc",
   "metadata": {},
   "outputs": [
    {
     "name": "stdout",
     "output_type": "stream",
     "text": [
      "yandex\n"
     ]
    }
   ],
   "source": [
    "i=0\n",
    "j =''\n",
    "for key, value in stats.items():\n",
    "    if value > i:\n",
    "        i = value\n",
    "        j = key\n",
    "print( j )"
   ]
  },
  {
   "cell_type": "code",
   "execution_count": null,
   "id": "f63c8d56-495e-48d8-abdb-227373a406cb",
   "metadata": {},
   "outputs": [],
   "source": [
    "или"
   ]
  },
  {
   "cell_type": "code",
   "execution_count": 31,
   "id": "1d723be3-de25-45aa-9013-2046db818819",
   "metadata": {},
   "outputs": [
    {
     "name": "stdout",
     "output_type": "stream",
     "text": [
      "yandex\n"
     ]
    }
   ],
   "source": [
    "max_chan = ''\n",
    "for chan in stats.keys():\n",
    "\tif stats[chan]> stats.get(max_chan,0):\n",
    "\t\tmax_chan = chan\n",
    "print(max_chan)"
   ]
  },
  {
   "cell_type": "markdown",
   "id": "387c060b-9482-439a-8d2c-e94d15dd2491",
   "metadata": {},
   "source": [
    "или"
   ]
  },
  {
   "cell_type": "code",
   "execution_count": 45,
   "id": "1b8ec971-7420-4621-9f63-bccf04f86cd0",
   "metadata": {},
   "outputs": [
    {
     "name": "stdout",
     "output_type": "stream",
     "text": [
      "yandex\n"
     ]
    }
   ],
   "source": [
    "max_val = max(stats, key=stats.get) \n",
    "print(max_val)"
   ]
  },
  {
   "cell_type": "markdown",
   "id": "d450d230-4304-43ee-b326-d127073e7787",
   "metadata": {},
   "source": [
    "# Задание 5\n",
    "Дан поток логов по количеству просмотренных страниц для каждого пользователя. Список отсортирован по ID пользователя. Вам необходимо написать алгоритм, который считает среднее значение просмотров на пользователя. Т. е. надо посчитать отношение суммы всех просмотров к количеству уникальных пользователей. Учтите, что весь список stream не помещается в оперативную память, т. е. его нужно обрабатывать поэлементно в цикле."
   ]
  },
  {
   "cell_type": "code",
   "execution_count": 51,
   "id": "4da90de7-495c-4774-9477-e37c83fe44df",
   "metadata": {},
   "outputs": [],
   "source": [
    "stream = [\n",
    "    '2018-01-01,user1,3',\n",
    "    '2018-01-07,user1,4',\n",
    "    '2018-03-29,user1,1',\n",
    "    '2018-04-04,user1,13',\n",
    "    '2018-01-05,user2,7',\n",
    "    '2018-06-14,user3,4',\n",
    "    '2018-07-02,user3,10',\n",
    "    '2018-03-21,user4,19',\n",
    "    '2018-03-22,user4,4',\n",
    "    '2018-04-22,user4,8',\n",
    "    '2018-05-03,user4,9',\n",
    "    '2018-05-11,user4,11',\n",
    "]"
   ]
  },
  {
   "cell_type": "code",
   "execution_count": null,
   "id": "4eb9abdb-9b61-43a6-bf2d-67a906a896cd",
   "metadata": {},
   "outputs": [],
   "source": []
  }
 ],
 "metadata": {
  "kernelspec": {
   "display_name": "Python [conda env:base] *",
   "language": "python",
   "name": "conda-base-py"
  },
  "language_info": {
   "codemirror_mode": {
    "name": "ipython",
    "version": 3
   },
   "file_extension": ".py",
   "mimetype": "text/x-python",
   "name": "python",
   "nbconvert_exporter": "python",
   "pygments_lexer": "ipython3",
   "version": "3.12.7"
  }
 },
 "nbformat": 4,
 "nbformat_minor": 5
}
