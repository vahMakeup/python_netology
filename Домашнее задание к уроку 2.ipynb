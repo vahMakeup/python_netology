{
 "cells": [
  {
   "cell_type": "markdown",
   "id": "02a88bd5-f9e6-42dd-b796-490b46cca20c",
   "metadata": {},
   "source": [
    "# Задача 1\n",
    "Дан список с визитами по городам и странам.\n",
    "Напишите код, который возвращает отфильтрованный список geo_logs, содержащий только визиты из России.\n",
    "Считайте, что список geo_logs легко помещается в оперативной памяти.\n",
    "\n",
    "geo_logs = [\\\n",
    "\t['visit1', ['Москва', 'Россия']],\\\n",
    "\t['visit2', ['Дели', 'Индия']],\\\n",
    "\t['visit3', ['Владимир', 'Россия']],\\\n",
    "\t['visit4', ['Лиссабон', 'Португалия']],\\\n",
    "\t['visit5', ['Париж', 'Франция']],\\\n",
    "\t['visit6', ['Лиссабон', 'Португалия']],\\\n",
    "\t['visit7', ['Тула', 'Россия']],\\\n",
    "\t['visit8', ['Тула', 'Россия']],\\\n",
    "\t['visit9', ['Курск', 'Россия']],\\\n",
    "\t['visit10', ['Архангельск', 'Россия']],\\\n",
    "]\n"
   ]
  },
  {
   "cell_type": "code",
   "execution_count": 37,
   "id": "7abcea88-ea1b-488c-9015-b1cd56d3c9c2",
   "metadata": {},
   "outputs": [],
   "source": [
    "geo_logs = [ \n",
    "    ['visit1', ['Москва', 'Россия']], \n",
    "    ['visit2', ['Дели', 'Индия']], \n",
    "    ['visit3', ['Владимир', 'Россия']], \n",
    "    ['visit4', ['Лиссабон', 'Португалия']], \n",
    "    ['visit5', ['Париж', 'Франция']], \n",
    "    ['visit6', ['Лиссабон', 'Португалия']], \n",
    "    ['visit7', ['Тула', 'Россия']], \n",
    "    ['visit8', ['Тула', 'Россия']], \n",
    "    ['visit9', ['Курск', 'Россия']], \n",
    "    ['visit10', ['Архангельск', 'Россия']], \n",
    "]"
   ]
  },
  {
   "cell_type": "code",
   "execution_count": 33,
   "id": "f6ae4499-4414-4a44-a008-419aad1f8b99",
   "metadata": {},
   "outputs": [
    {
     "name": "stdout",
     "output_type": "stream",
     "text": [
      "['visit1', ['Москва', 'Россия']]\n",
      "['visit3', ['Владимир', 'Россия']]\n",
      "['visit7', ['Тула', 'Россия']]\n",
      "['visit8', ['Тула', 'Россия']]\n",
      "['visit9', ['Курск', 'Россия']]\n",
      "['visit10', ['Архангельск', 'Россия']]\n"
     ]
    }
   ],
   "source": [
    "for i in geo_logs:\n",
    "    if(i[1][1]) == 'Россия':\n",
    "        print(i)"
   ]
  },
  {
   "cell_type": "markdown",
   "id": "c1c4b848-ccb9-45eb-824a-9e2f02c38309",
   "metadata": {},
   "source": [
    "или"
   ]
  },
  {
   "cell_type": "code",
   "execution_count": 39,
   "id": "8ebcc3d7-b154-41cf-bf83-82505f8b9103",
   "metadata": {},
   "outputs": [
    {
     "name": "stdout",
     "output_type": "stream",
     "text": [
      "[['visit1', ['Москва', 'Россия']], ['visit3', ['Владимир', 'Россия']], ['visit7', ['Тула', 'Россия']], ['visit8', ['Тула', 'Россия']], ['visit9', ['Курск', 'Россия']], ['visit10', ['Архангельск', 'Россия']]]\n"
     ]
    }
   ],
   "source": [
    "print([x for x in geo_logs if x[1][1]=='Россия'])"
   ]
  },
  {
   "cell_type": "markdown",
   "id": "96fffd7d-48c8-4117-a298-bb19ca684343",
   "metadata": {},
   "source": [
    "# Задача 2\n",
    "\n",
    "Выведите на экран все уникальные гео-ID из значений словаря ids. Т. е. список вида [213, 15, 54, 119, 98, 35]\n",
    "\n",
    "ids = {'user1': [213, 213, 213, 15, 213], 'user2': [54, 54, 119, 119, 119], 'user3': [213, 98, 98, 35]}"
   ]
  },
  {
   "cell_type": "code",
   "execution_count": null,
   "id": "5077f2d7-044f-43b6-9a66-af1f4acdfcb3",
   "metadata": {},
   "outputs": [],
   "source": []
  }
 ],
 "metadata": {
  "kernelspec": {
   "display_name": "Python [conda env:base] *",
   "language": "python",
   "name": "conda-base-py"
  },
  "language_info": {
   "codemirror_mode": {
    "name": "ipython",
    "version": 3
   },
   "file_extension": ".py",
   "mimetype": "text/x-python",
   "name": "python",
   "nbconvert_exporter": "python",
   "pygments_lexer": "ipython3",
   "version": "3.12.7"
  }
 },
 "nbformat": 4,
 "nbformat_minor": 5
}
